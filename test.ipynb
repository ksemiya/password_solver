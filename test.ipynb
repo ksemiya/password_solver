{
 "cells": [
  {
   "attachments": {},
   "cell_type": "markdown",
   "metadata": {},
   "source": [
    "Так\n",
    "Я хочу штуки блоками?\n",
    "Как правильно — передавать штуки или не передавать штуки?"
   ]
  },
  {
   "cell_type": "code",
   "execution_count": 1,
   "metadata": {},
   "outputs": [],
   "source": [
    "from selenium import webdriver\n",
    "from selenium.webdriver.common.by import By\n",
    "from selenium.webdriver.common.keys import Keys\n",
    "import pandas as pd\n",
    "import re\n",
    "import time\n",
    "\n",
    "# today's wordle\n",
    "\n",
    "from bs4 import BeautifulSoup\n",
    "import requests\n",
    "\n",
    "class PasswordLetter:\n",
    "\n",
    "    def __init__(self, letter: str) -> None:\n",
    "        self.letter = letter # wtf naming lol I dont like it\n",
    "        self.bold = False\n",
    "        self.italic = False\n",
    "        self.font_size = None\n",
    "        self.font = None\n",
    "\n",
    "    def to_html(self):\n",
    "        result = self.letter\n",
    "        if self.bold:\n",
    "            result = f\"<strong>{result}</strong>\"    \n",
    "        if self.italic:\n",
    "            result = f\"<i>{result}</i>\"\n",
    "        #<span style=\"font-family: Wingdings; font-size: 28px\">HHHHHHHHHHHHHHHHHHHHHHHHHHHHHHHHHHHHHHHHHHHHHHHHHHHHH</span>   \n",
    "        if self.font_size is not None or self.font is not None:\n",
    "            self.font_size = '28' if self.font_size is None else self.font_size\n",
    "            self.font = 'Monospace' if self.font is None else self.font\n",
    "            result = f'<span style=\"font-family: {self.font}; font-size: {self.font_size}px\">{result}</span>'\n",
    "        return result\n",
    "\n",
    "def password_to_str(password: list[PasswordLetter]):\n",
    "    return ''.join([letter.to_html() for letter in password])\n",
    "\n",
    "def password_to_str_wo_html(password: list[PasswordLetter]):\n",
    "    return ''.join([letter.letter for letter in password])\n",
    "\n",
    "def str_to_password(string: str):\n",
    "    return [PasswordLetter(letter) for letter in string]\n",
    "\n",
    "def replace_text_in_password_box(password: list[PasswordLetter]):\n",
    "    driver.execute_script(\"document.querySelector('.ProseMirror').innerHTML = '<p>{}</p>';\".format(password_to_str(password))) #actually faster than sendkeys()\n",
    "\n",
    "\n",
    "def today_wordle():\n",
    "    url_wordle_ans = ' https://word.tips/todays-wordle-answer/'\n",
    "\n",
    "    # today date\n",
    "    import datetime\n",
    "    today_date = datetime.datetime.now()\n",
    "    today_worlde_raw = today_date.strftime(\"%B %-d\") # July 4\n",
    "    page = requests.get(url_wordle_ans, headers={'User-Agent': 'Mozilla/5.0'})\n",
    "    soup = BeautifulSoup(page.content, \"html.parser\")\n",
    "    child_soup = soup.find_all('strong')\n",
    "    for x in child_soup:\n",
    "        if (today_worlde_raw in x.string):\n",
    "            return x.string[-5:].lower()\n",
    "        \n",
    "def today_moon_phase():\n",
    "    #return '🌖'\n",
    "    dict_moon_phases = {\n",
    "        'New' : '🌑',\n",
    "        'Waxing Crescent' : '🌒',\n",
    "        'First Quarter' : '🌓',\n",
    "        'Waxing Gibbous' : '🌔',\n",
    "        'Full' : '🌕',\n",
    "        'Waning Gibbous' : '🌖',\n",
    "        'Last Quarter' : '🌗',\n",
    "        'Waning Crescent' : '🌘'\n",
    "    } # should I have it like this?\n",
    "\n",
    "    url_moon_phases = 'https://www.moongiant.com/phase/today/'\n",
    "    page = requests.get(url_moon_phases, headers={'User-Agent': 'Mozilla/5.0'})\n",
    "    soup = BeautifulSoup(page.content, \"html.parser\")\n",
    "    moon_details = soup.find(\"div\", {\"id\": \"moonDetails\"})\n",
    "    return dict_moon_phases[moon_details.contents[1].string]       \n",
    "\n",
    "def strong():\n",
    "     return '🏋️‍♂️🏋️‍♂️🏋️‍♂️'\n",
    "\n",
    "url_password_game = 'https://neal.fun/password-game/' # global\n",
    "# free_digit = 25 # do I need that?\n",
    "# password_digits = [1 for _ in range(25)] # digits that is not in captcha or chess or whatever; do I need that?\n",
    "\n",
    "first_password = '1' * 25 + '$0XXXVpepsimayHe iamloved' + today_wordle() + today_moon_phase() + strong() # add leap year in the beginning\n",
    "\n",
    "password = str_to_password(first_password)\n",
    "\n",
    "# start browser operation\n",
    "\n",
    "# driver = webdriver.Chrome() \n",
    "driver = webdriver.Safari()\n",
    "driver.get(url_password_game)\n",
    "time.sleep(1)\n",
    "password_box = driver.find_element(By.CLASS_NAME, 'ProseMirror')\n",
    "\n",
    "replace_text_in_password_box(password) #password_box.send_keys(password)\n",
    "\n",
    "captcha_img = driver.find_element(By.CLASS_NAME, 'captcha-img').get_attribute('src')\n",
    "refresh_captcha = driver.find_element(By.CLASS_NAME, 'captcha-refresh')\n",
    "\n",
    "#captchasolver\n",
    "def captcha_solver():\n",
    "    captcha_digit_sum = 30\n",
    "    while captcha_digit_sum > 5: # magic int; I think it will be enough degree of freedom\n",
    "        captcha_img = driver.find_element(By.CLASS_NAME, 'captcha-img').get_attribute('src')\n",
    "        captcha = captcha_img[40:45]\n",
    "        # refaсtoring digits in password if captcha have some to sum to 25\n",
    "        captcha_digit_sum = 0\n",
    "        for x in captcha:\n",
    "            if x.isdigit():\n",
    "                captcha_digit_sum += int(x)\n",
    "        if captcha_digit_sum > 5:\n",
    "            time.sleep(1)\n",
    "            refresh_captcha.click()\n",
    "    return captcha, captcha_digit_sum\n",
    "\n",
    "captcha, captcha_digit_sum = captcha_solver()\n",
    "password = (password[captcha_digit_sum:] if captcha_digit_sum != 0 else password) + str_to_password(captcha)  # I had a bug if captcha were without digit lol\n",
    "\n",
    "# password_box.clear()\n",
    "replace_text_in_password_box(password) #password_box.send_keys(password)      \n",
    "\n",
    "countiers = pd.read_json('maps.jsonc')\n",
    "\n",
    "# Just could not do anything with them\n",
    "# geo_frame = driver.find_element(By.XPATH, r'//*[@id=\"__layout\"]/div/div/div[2]/div[5]/div/div[1]/div/div/div/div[2]/div/iframe')\n",
    "# geo = driver.find_element(By.CLASS_NAME, 'geo')\n",
    "\n",
    "def geo_solver(page_source_geo):\n",
    "    soup = BeautifulSoup(page_source_geo, \"html.parser\")\n",
    "    child_soup = soup.find_all('iframe')\n",
    "    for x in child_soup:\n",
    "        if x['src'].startswith(\"https://www.google.com/maps/embed\"):\n",
    "            geo_embed = x['src']\n",
    "    return countiers[countiers.embed == geo_embed].title.values[0].lower().replace(\" \", \"\")\n",
    "\n",
    "country = geo_solver(driver.page_source)\n",
    "password = password + str_to_password(country)\n",
    "replace_text_in_password_box(password) #password_box.send_keys(country)  \n",
    "\n",
    "def get_chess_position(chess_img):\n",
    "    import requests\n",
    "    from xml.etree import ElementTree as ET\n",
    "\n",
    "    # Make a request to the URL\n",
    "    response = requests.get(chess_img)\n",
    "\n",
    "    # Check if the request was successful\n",
    "    if response.status_code == 200:\n",
    "        svg_data = response.content\n",
    "\n",
    "        # Parse SVG data\n",
    "        tree = ET.ElementTree(ET.fromstring(svg_data))\n",
    "\n",
    "        # Loop over all elements in the SVG\n",
    "        for elem in tree.iter():\n",
    "            if elem.text is not None:\n",
    "                chess_position = elem.text\n",
    "                return chess_position\n",
    "    else:\n",
    "        print('Failed to fetch SVG.') # TODO raise Err\n",
    "    return\n",
    "\n",
    "def color_move(chess_move):\n",
    "    if 'White' in chess_move:\n",
    "        return 'w'\n",
    "    if 'Black' in chess_move:\n",
    "        return 'b'\n",
    "    return 'WRONG MOVE'\n",
    "\n",
    "def from_svg_to_FEN(chess_position, chess_move):\n",
    "    # Remove leading/trailing white space and split the string into lines\n",
    "    rows = chess_position.strip().split(\"\\n\")\n",
    "\n",
    "    # Initialize an empty list to hold FEN rows\n",
    "    fen_rows = []\n",
    "\n",
    "    # Iterate over rows\n",
    "    for row in rows:\n",
    "        # Remove leading/trailing white space and split row into squares\n",
    "        squares = row.strip().split(\" \")\n",
    "        # Initialize counter for empty squares\n",
    "        empty = 0\n",
    "        # Initialize an empty string to hold FEN for this row\n",
    "        fen_row = ''\n",
    "        # Iterate over squares\n",
    "        for square in squares:\n",
    "            if square == '.':\n",
    "                # Increment counter for empty squares\n",
    "                empty += 1\n",
    "            else:\n",
    "                # If the square is not empty and there were empty squares before, add count to FEN\n",
    "                if empty > 0:\n",
    "                    fen_row += str(empty)\n",
    "                    # Reset empty squares counter\n",
    "                    empty = 0\n",
    "                # Add piece to FEN\n",
    "                fen_row += square\n",
    "        # If the row ends with one or more empty squares, add count to FEN\n",
    "        if empty > 0:\n",
    "            fen_row += str(empty)\n",
    "        # Add FEN for this row to the list of FEN rows\n",
    "        fen_rows.append(fen_row)\n",
    "    # Join the FEN rows with slashes to get the final FEN\n",
    "    fen_board = '/'.join(fen_rows)\n",
    "    fen = fen_board + ' ' + color_move(chess_move) + ' - - 0 1'\n",
    "\n",
    "    return fen\n",
    "\n",
    "def get_best_move(fen): \n",
    "\n",
    "    import chess.engine\n",
    "\n",
    "    # Define the path to your Stockfish engine file\n",
    "    engine_path = \"/opt/homebrew/Cellar/stockfish/16/bin/stockfish\"\n",
    "\n",
    "    # Initialize the chessboard with a given FEN\n",
    "    board = chess.Board(fen)\n",
    "\n",
    "    # Initialize the engine\n",
    "    engine = chess.engine.SimpleEngine.popen_uci(engine_path)\n",
    "\n",
    "    # Find the best move\n",
    "    result = engine.play(board, chess.engine.Limit(time=1.0))\n",
    "    best_move = result.move\n",
    "\n",
    "    # From UCI to algebraic notation\n",
    "    best_move_alg_not = board.san(best_move)\n",
    "\n",
    "    # It is good practice to close the engine after using it\n",
    "    engine.quit()\n",
    "\n",
    "    return best_move_alg_not\n",
    "\n",
    "def solve_chess_position(chess_img, chess_move):\n",
    "    chess_position = get_chess_position(chess_img)\n",
    "    fen = from_svg_to_FEN(chess_position, chess_move)\n",
    "    best_move = get_best_move(fen)\n",
    "    return best_move\n",
    "\n",
    "chess_img = driver.find_element(By.CLASS_NAME, 'chess-img').get_attribute('src')\n",
    "chess_move = driver.find_element(By.CLASS_NAME, 'move').text.strip()\n",
    "chess_solution = solve_chess_position(chess_img, chess_move)\n",
    "chess_digit_sum = sum([int(x) for x in re.findall(r'\\d', chess_solution)])\n",
    "password = str_to_password('🥚') + (password[chess_digit_sum:] if chess_digit_sum != 0 else password) + str_to_password(chess_solution)\n",
    "#password_box.clear()\n",
    "replace_text_in_password_box(password) #password_box.send_keys(password) \n",
    "\n",
    "import pandas as pd\n",
    "df_atomics = pd.read_csv('atomic_numbers.csv', sep=';')\n",
    "dict_atomics = dict(zip(df_atomics.symbol, df_atomics.number))\n",
    "dict_numbers = dict(zip(df_atomics.number, df_atomics.symbol)) # TODO rename that shit\n",
    "\n",
    "def detect_elements(s):\n",
    "    i = 0\n",
    "    detected_list = []\n",
    "    two_symbols_flg = 0\n",
    "    candidate = ''\n",
    "    while i < len(s):\n",
    "        if s[i].isupper():\n",
    "            if i + 1 == len(s):\n",
    "                candidate = s[i]\n",
    "            elif s[i+1].islower():\n",
    "                two_symbols_flg = 1\n",
    "                candidate = s[i:i+2]\n",
    "            else:\n",
    "                candidate = s[i]\n",
    "            if candidate in dict_atomics.keys():\n",
    "                detected_list.append(candidate)\n",
    "                i += two_symbols_flg\n",
    "            elif two_symbols_flg == 1:\n",
    "                if candidate[:1] in dict_atomics.keys():\n",
    "                    detected_list.append(candidate[:1])\n",
    "        two_symbols_flg = 0\n",
    "        i += 1\n",
    "    return detected_list\n",
    "\n",
    "def add_periodic_elements(curr_elements):\n",
    "    result_list = []\n",
    "    curr_sum = sum([dict_atomics[elem] for elem in curr_elements])\n",
    "    if curr_sum > 200:\n",
    "        print('We fucked up')\n",
    "        return # TODO raise exception\n",
    "    result_list.append('H' * (200 - curr_sum))\n",
    "    return result_list\n",
    "\n",
    "elements_in_password = add_periodic_elements(detect_elements(password_to_str_wo_html(password)))\n",
    "password = password + str_to_password(''.join(elements_in_password))\n",
    "replace_text_in_password_box(password) #password_box.send_keys(''.join(elements_in_password)) \n",
    "\n",
    "# I think I need two copy of the password (simple and formatted) to keep track what is going on orrrr just do formating every time from scratch?\n",
    "\n",
    "def bold_formatting(password: list[PasswordLetter]) -> str: # rule 20\n",
    "    for letter in password:\n",
    "        if letter.letter in 'aeiouyAEIOUY':\n",
    "            letter.bold = True\n",
    "    return password\n",
    "\n",
    "password = bold_formatting(password)\n",
    "replace_text_in_password_box(password)\n",
    "replace_text_in_password_box(password)\n",
    "\n",
    "password = str_to_password('🐔🐛🐛🐛🐛') + password[1:]\n",
    "replace_text_in_password_box(password)\n",
    "\n",
    "def youtube_solver(page_source):\n",
    "    soup = BeautifulSoup(driver.page_source, \"html.parser\")\n",
    "    child_soup = soup.find_all(class_='rule rule rule-error youtube')\n",
    "    x = child_soup[0]\n",
    "    exact_time = re.findall('Your password must include the URL of an exactly \\d+ minute long YouTube video', x.text)\n",
    "    if len(exact_time) > 0:\n",
    "        duration_list = re.findall(r'\\d+', exact_time) + ['0']\n",
    "    else:\n",
    "        duration_list = re.findall(r'\\d+', re.findall('Your password must include the URL of a \\d+ minute \\d+ second long YouTube video', x.text)[0])\n",
    "    duration = int(duration_list[0]) * 60 + int(duration_list[1])\n",
    "\n",
    "    return duration_list, 'youtu.be/' + youtube_cheatsheet[youtube_cheatsheet.duration == duration].url.values[0]\n",
    "\n",
    "youtube_cheatsheet = pd.read_csv('youtube_cheatsheet.csv')\n",
    "duration_list, youtube_url = youtube_solver(driver.page_source)\n",
    "youtube_url_sum = sum([int(x) for x in re.findall(r'\\d', youtube_url)])\n",
    "password = password[:5] + password[5 + youtube_url_sum:]\n",
    "youtube_url_elements_sum = sum([dict_atomics[elem] for elem in detect_elements(youtube_url)])\n",
    "password = (password[:-youtube_url_elements_sum] if youtube_url_elements_sum != 0 else password)\n",
    "\n",
    "password = password + str_to_password(youtube_url)\n",
    "password = bold_formatting(password)\n",
    "replace_text_in_password_box(password)\n",
    "\n",
    "import string\n",
    "absence_eng_letter = sorted(list(set(string.ascii_lowercase)-set(password_to_str_wo_html(password).lower())), reverse=True)\n",
    "\n",
    "scr_letter = (ord(absence_eng_letter[0]) - 96, ord(absence_eng_letter[1]) - 96) # TODO exceptions\n",
    "\n",
    "# logging\n",
    "from csv import writer\n",
    "from datetime import datetime\n",
    "\n",
    "yt_ok = True\n",
    "try:\n",
    "    driver.find_element(By.XPATH, f'//*[@id=\"__layout\"]/div/div/div[2]/div[5]/div/div[1]/div/div/div/div[2]/div/button[{scr_letter[0]}]').send_keys(Keys.ENTER) # get rid of w\n",
    "except:\n",
    "    yt_ok = False\n",
    "\n",
    "\n",
    "# List that we want to add as a new row\n",
    "log_list = [datetime.now(), password_to_str_wo_html(password), captcha, country, chess_img, chess_move, chess_solution,\n",
    "            duration_list, youtube_url, ''.join(absence_eng_letter), scr_letter, yt_ok]\n",
    "\n",
    "# Open our existing CSV file in append mode\n",
    "# Create a file object for this file\n",
    "with open('logs.csv', 'a') as f_object:\n",
    "\n",
    "\t# Pass this file object to csv.writer()\n",
    "\t# and get a writer object\n",
    "\twriter_object = writer(f_object)\n",
    "\n",
    "\t# Pass the list as an argument into\n",
    "\t# the writerow()\n",
    "\twriter_object.writerow(log_list)\n",
    "\n",
    "\t# Close the file object\n",
    "\tf_object.close()\n",
    "\n",
    "\n",
    "time.sleep(3)\n",
    "# rule 25\n",
    "# there is some urls which contains w, need to be changed\n",
    "driver.find_element(By.XPATH, f'//*[@id=\"__layout\"]/div/div/div[2]/div[5]/div/div[1]/div/div/div/div[2]/div/button[{scr_letter[0]}]').send_keys(Keys.ENTER) # get rid of w\n",
    "# and z. fuck\n",
    "driver.find_element(By.XPATH, f'//*[@id=\"__layout\"]/div/div/div[2]/div[5]/div/div[1]/div/div/div/div[2]/div/button[{scr_letter[1]}]').send_keys(Keys.ENTER) # get rid of z\n",
    "time.sleep(3) # overwise smth goes wrong\n",
    "driver.find_element(By.CLASS_NAME, 'sacrafice-btn').send_keys(Keys.ENTER) # SACRAFICEEEE\n",
    "\n",
    "\n",
    "def italic_formatting(password: list[PasswordLetter]) -> list[PasswordLetter]:\n",
    "    bold_cnt = sum([letter.bold for letter in password])\n",
    "    for i in range(bold_cnt*2):\n",
    "        password[i].italic = True\n",
    "    return password\n",
    "\n",
    "password = italic_formatting(password)\n",
    "replace_text_in_password_box(password)\n",
    "\n",
    "#Wingdings\n",
    "def wingdings_formatting(password: list[PasswordLetter]) -> list[PasswordLetter]:\n",
    "    wingdings_cnt = len(password) // 3 + 1\n",
    "    i = 5\n",
    "    curr_w_cnt = 0\n",
    "    while curr_w_cnt <= wingdings_cnt:\n",
    "        if password[i].letter not in 'IVX':\n",
    "            password[i].font = 'Wingdings'\n",
    "            curr_w_cnt += 1\n",
    "        i += 1\n",
    "    return password\n",
    "\n",
    "password = wingdings_formatting(password)\n",
    "replace_text_in_password_box(password)\n",
    "\n",
    "#driver.quit()"
   ]
  },
  {
   "cell_type": "code",
   "execution_count": 15,
   "metadata": {},
   "outputs": [],
   "source": [
    "driver.quit()\n"
   ]
  },
  {
   "cell_type": "code",
   "execution_count": 2,
   "metadata": {},
   "outputs": [
    {
     "data": {
      "text/plain": [
       "'🐔🐛🐛🐛🐛1111111111111111$0XXXVpepsimayHe iamlovedhobby🌒🏋️\\u200d♂️🏋️\\u200d♂️🏋️\\u200d♂️x3fwfnetherlandsRxf6+HHHHHHHHHHHHHHHHHHHHHHHHHHHHHHHHHHHHHHHHHHHHHHHHHHHHHHHHHHHHHHHHHHHHHHHHHHHHHHHHHHHHHHHHHHHHHHHHHHHHHHHHHHHHHHHHHHHHHHHHHHHHHHHHHHHHHHHHHHHHHHHHHHHHHHHHHHHHHHHHHHHHHHHHHHHHHHHyoutu.be/ze-yx_Zgpec'"
      ]
     },
     "execution_count": 2,
     "metadata": {},
     "output_type": "execute_result"
    }
   ],
   "source": [
    "password_to_str_wo_html(password)"
   ]
  },
  {
   "cell_type": "code",
   "execution_count": 4,
   "metadata": {},
   "outputs": [
    {
     "data": {
      "text/plain": [
       "'<i>🐔</i><i>🐛</i><i>🐛</i><i>🐛</i><i>🐛</i><span style=\"font-family: Wingdings; font-size: 28px><i>1</i></span><span style=\"font-family: Wingdings; font-size: 28px><i>1</i></span><span style=\"font-family: Wingdings; font-size: 28px><i>1</i></span><span style=\"font-family: Wingdings; font-size: 28px><i>1</i></span><span style=\"font-family: Wingdings; font-size: 28px><i>1</i></span><span style=\"font-family: Wingdings; font-size: 28px><i>1</i></span><span style=\"font-family: Wingdings; font-size: 28px><i>1</i></span><span style=\"font-family: Wingdings; font-size: 28px><i>1</i></span><span style=\"font-family: Wingdings; font-size: 28px><i>1</i></span><span style=\"font-family: Wingdings; font-size: 28px><i>1</i></span><span style=\"font-family: Wingdings; font-size: 28px><i>1</i></span><span style=\"font-family: Wingdings; font-size: 28px><i>1</i></span><span style=\"font-family: Wingdings; font-size: 28px><i>1</i></span><span style=\"font-family: Wingdings; font-size: 28px><i>1</i></span><span style=\"font-family: Wingdings; font-size: 28px><i>1</i></span><span style=\"font-family: Wingdings; font-size: 28px><i>1</i></span><span style=\"font-family: Wingdings; font-size: 28px><i>$</i></span><span style=\"font-family: Wingdings; font-size: 28px><i>0</i></span><i>X</i><i>X</i><i>X</i><i>V</i><span style=\"font-family: Wingdings; font-size: 28px><i>p</i></span><span style=\"font-family: Wingdings; font-size: 28px><i><strong>e</strong></i></span><span style=\"font-family: Wingdings; font-size: 28px><i>p</i></span><span style=\"font-family: Wingdings; font-size: 28px><i>s</i></span><span style=\"font-family: Wingdings; font-size: 28px><i><strong>i</strong></i></span><span style=\"font-family: Wingdings; font-size: 28px><i>m</i></span><span style=\"font-family: Wingdings; font-size: 28px><i><strong>a</strong></i></span><span style=\"font-family: Wingdings; font-size: 28px><i><strong>y</strong></i></span><span style=\"font-family: Wingdings; font-size: 28px><i>H</i></span><span style=\"font-family: Wingdings; font-size: 28px><i><strong>e</strong></i></span><span style=\"font-family: Wingdings; font-size: 28px><i> </i></span><span style=\"font-family: Wingdings; font-size: 28px><i><strong>i</strong></i></span><span style=\"font-family: Wingdings; font-size: 28px><i><strong>a</strong></i></span><span style=\"font-family: Wingdings; font-size: 28px><i>m</i></span><span style=\"font-family: Wingdings; font-size: 28px><i>l</i></span><span style=\"font-family: Wingdings; font-size: 28px><i><strong>o</strong></i></span><span style=\"font-family: Wingdings; font-size: 28px><i>v</i></span><span style=\"font-family: Wingdings; font-size: 28px><strong>e</strong></span><span style=\"font-family: Wingdings; font-size: 28px>d</span><span style=\"font-family: Wingdings; font-size: 28px>h</span><span style=\"font-family: Wingdings; font-size: 28px><strong>o</strong></span><span style=\"font-family: Wingdings; font-size: 28px>b</span><span style=\"font-family: Wingdings; font-size: 28px>b</span><span style=\"font-family: Wingdings; font-size: 28px><strong>y</strong></span><span style=\"font-family: Wingdings; font-size: 28px>🌒</span><span style=\"font-family: Wingdings; font-size: 28px>🏋</span><span style=\"font-family: Wingdings; font-size: 28px>️</span><span style=\"font-family: Wingdings; font-size: 28px>\\u200d</span><span style=\"font-family: Wingdings; font-size: 28px>♂</span><span style=\"font-family: Wingdings; font-size: 28px>️</span><span style=\"font-family: Wingdings; font-size: 28px>🏋</span><span style=\"font-family: Wingdings; font-size: 28px>️</span><span style=\"font-family: Wingdings; font-size: 28px>\\u200d</span><span style=\"font-family: Wingdings; font-size: 28px>♂</span><span style=\"font-family: Wingdings; font-size: 28px>️</span><span style=\"font-family: Wingdings; font-size: 28px>🏋</span><span style=\"font-family: Wingdings; font-size: 28px>️</span><span style=\"font-family: Wingdings; font-size: 28px>\\u200d</span><span style=\"font-family: Wingdings; font-size: 28px>♂</span><span style=\"font-family: Wingdings; font-size: 28px>️</span><span style=\"font-family: Wingdings; font-size: 28px>x</span><span style=\"font-family: Wingdings; font-size: 28px>3</span><span style=\"font-family: Wingdings; font-size: 28px>f</span><span style=\"font-family: Wingdings; font-size: 28px>w</span><span style=\"font-family: Wingdings; font-size: 28px>f</span><span style=\"font-family: Wingdings; font-size: 28px>n</span><span style=\"font-family: Wingdings; font-size: 28px><strong>e</strong></span><span style=\"font-family: Wingdings; font-size: 28px>t</span><span style=\"font-family: Wingdings; font-size: 28px>h</span><span style=\"font-family: Wingdings; font-size: 28px><strong>e</strong></span><span style=\"font-family: Wingdings; font-size: 28px>r</span><span style=\"font-family: Wingdings; font-size: 28px>l</span><span style=\"font-family: Wingdings; font-size: 28px><strong>a</strong></span><span style=\"font-family: Wingdings; font-size: 28px>n</span><span style=\"font-family: Wingdings; font-size: 28px>d</span><span style=\"font-family: Wingdings; font-size: 28px>s</span><span style=\"font-family: Wingdings; font-size: 28px>R</span><span style=\"font-family: Wingdings; font-size: 28px>x</span><span style=\"font-family: Wingdings; font-size: 28px>f</span><span style=\"font-family: Wingdings; font-size: 28px>6</span><span style=\"font-family: Wingdings; font-size: 28px>+</span><span style=\"font-family: Wingdings; font-size: 28px>H</span><span style=\"font-family: Wingdings; font-size: 28px>H</span><span style=\"font-family: Wingdings; font-size: 28px>H</span><span style=\"font-family: Wingdings; font-size: 28px>H</span><span style=\"font-family: Wingdings; font-size: 28px>H</span><span style=\"font-family: Wingdings; font-size: 28px>H</span><span style=\"font-family: Wingdings; font-size: 28px>H</span><span style=\"font-family: Wingdings; font-size: 28px>H</span><span style=\"font-family: Wingdings; font-size: 28px>H</span><span style=\"font-family: Wingdings; font-size: 28px>H</span><span style=\"font-family: Wingdings; font-size: 28px>H</span><span style=\"font-family: Wingdings; font-size: 28px>H</span><span style=\"font-family: Wingdings; font-size: 28px>H</span><span style=\"font-family: Wingdings; font-size: 28px>H</span><span style=\"font-family: Wingdings; font-size: 28px>H</span><span style=\"font-family: Wingdings; font-size: 28px>H</span><span style=\"font-family: Wingdings; font-size: 28px>H</span>HHHHHHHHHHHHHHHHHHHHHHHHHHHHHHHHHHHHHHHHHHHHHHHHHHHHHHHHHHHHHHHHHHHHHHHHHHHHHHHHHHHHHHHHHHHHHHHHHHHHHHHHHHHHHHHHHHHHHHHHHHHHHHHHHHHHHHHHHHHHHHHHHHHHHHHHHHHHHH<strong>y</strong><strong>o</strong><strong>u</strong>t<strong>u</strong>.b<strong>e</strong>/z<strong>e</strong>-<strong>y</strong>x_Zgp<strong>e</strong>c'"
      ]
     },
     "execution_count": 4,
     "metadata": {},
     "output_type": "execute_result"
    }
   ],
   "source": [
    "password_to_str(password)"
   ]
  },
  {
   "cell_type": "code",
   "execution_count": 8,
   "metadata": {},
   "outputs": [],
   "source": [
    "with open('event.csv', 'a') as f_object:\n",
    "\n",
    "\t# Pass this file object to csv.writer()\n",
    "\t# and get a writer object\n",
    "\twriter_object = writer(f_object)\n",
    "\n",
    "\t# Pass the list as an argument into\n",
    "\t# the writerow()\n",
    "\twriter_object.writerow(log_list)\n",
    "\n",
    "\t# Close the file object\n",
    "\tf_object.close()"
   ]
  },
  {
   "cell_type": "code",
   "execution_count": 127,
   "metadata": {},
   "outputs": [],
   "source": [
    "password = italic_formatting(password)\n",
    "replace_text_in_password_box(password)"
   ]
  },
  {
   "cell_type": "code",
   "execution_count": 87,
   "metadata": {},
   "outputs": [],
   "source": [
    "driver.find_element(By.CLASS_NAME, 'sacrafice-btn').send_keys(Keys.ENTER)\n"
   ]
  },
  {
   "cell_type": "code",
   "execution_count": 3,
   "metadata": {},
   "outputs": [],
   "source": [
    "replace_text_in_password_box(password)"
   ]
  },
  {
   "cell_type": "code",
   "execution_count": 31,
   "metadata": {},
   "outputs": [],
   "source": [
    "driver.maximize_window()"
   ]
  },
  {
   "cell_type": "code",
   "execution_count": 2,
   "metadata": {},
   "outputs": [],
   "source": [
    "first_sacriface = ord('z') - 97"
   ]
  },
  {
   "cell_type": "code",
   "execution_count": 3,
   "metadata": {},
   "outputs": [
    {
     "data": {
      "text/plain": [
       "25"
      ]
     },
     "execution_count": 3,
     "metadata": {},
     "output_type": "execute_result"
    }
   ],
   "source": [
    "first_sacriface"
   ]
  },
  {
   "cell_type": "code",
   "execution_count": 83,
   "metadata": {},
   "outputs": [
    {
     "ename": "NoSuchElementException",
     "evalue": "Message: ; For documentation on this error, please visit: https://www.selenium.dev/documentation/webdriver/troubleshooting/errors#no-such-element-exception\n",
     "output_type": "error",
     "traceback": [
      "\u001b[0;31m---------------------------------------------------------------------------\u001b[0m",
      "\u001b[0;31mNoSuchElementException\u001b[0m                    Traceback (most recent call last)",
      "Cell \u001b[0;32mIn[83], line 1\u001b[0m\n\u001b[0;32m----> 1\u001b[0m driver\u001b[39m.\u001b[39;49mfind_element(By\u001b[39m.\u001b[39;49mXPATH, \u001b[39m'\u001b[39;49m\u001b[39m//*[@id=\u001b[39;49m\u001b[39m\"\u001b[39;49m\u001b[39m__layout\u001b[39;49m\u001b[39m\"\u001b[39;49m\u001b[39m]/div/div/div[2]/div[6]/div/div[1]/div/div/div/div[2]/button\u001b[39;49m\u001b[39m'\u001b[39;49m)\u001b[39m.\u001b[39msend_keys(Keys\u001b[39m.\u001b[39mENTER)\n",
      "File \u001b[0;32m~/Library/Python/3.9/lib/python/site-packages/selenium/webdriver/remote/webdriver.py:740\u001b[0m, in \u001b[0;36mWebDriver.find_element\u001b[0;34m(self, by, value)\u001b[0m\n\u001b[1;32m    737\u001b[0m     by \u001b[39m=\u001b[39m By\u001b[39m.\u001b[39mCSS_SELECTOR\n\u001b[1;32m    738\u001b[0m     value \u001b[39m=\u001b[39m \u001b[39mf\u001b[39m\u001b[39m'\u001b[39m\u001b[39m[name=\u001b[39m\u001b[39m\"\u001b[39m\u001b[39m{\u001b[39;00mvalue\u001b[39m}\u001b[39;00m\u001b[39m\"\u001b[39m\u001b[39m]\u001b[39m\u001b[39m'\u001b[39m\n\u001b[0;32m--> 740\u001b[0m \u001b[39mreturn\u001b[39;00m \u001b[39mself\u001b[39;49m\u001b[39m.\u001b[39;49mexecute(Command\u001b[39m.\u001b[39;49mFIND_ELEMENT, {\u001b[39m\"\u001b[39;49m\u001b[39musing\u001b[39;49m\u001b[39m\"\u001b[39;49m: by, \u001b[39m\"\u001b[39;49m\u001b[39mvalue\u001b[39;49m\u001b[39m\"\u001b[39;49m: value})[\u001b[39m\"\u001b[39m\u001b[39mvalue\u001b[39m\u001b[39m\"\u001b[39m]\n",
      "File \u001b[0;32m~/Library/Python/3.9/lib/python/site-packages/selenium/webdriver/remote/webdriver.py:346\u001b[0m, in \u001b[0;36mWebDriver.execute\u001b[0;34m(self, driver_command, params)\u001b[0m\n\u001b[1;32m    344\u001b[0m response \u001b[39m=\u001b[39m \u001b[39mself\u001b[39m\u001b[39m.\u001b[39mcommand_executor\u001b[39m.\u001b[39mexecute(driver_command, params)\n\u001b[1;32m    345\u001b[0m \u001b[39mif\u001b[39;00m response:\n\u001b[0;32m--> 346\u001b[0m     \u001b[39mself\u001b[39;49m\u001b[39m.\u001b[39;49merror_handler\u001b[39m.\u001b[39;49mcheck_response(response)\n\u001b[1;32m    347\u001b[0m     response[\u001b[39m\"\u001b[39m\u001b[39mvalue\u001b[39m\u001b[39m\"\u001b[39m] \u001b[39m=\u001b[39m \u001b[39mself\u001b[39m\u001b[39m.\u001b[39m_unwrap_value(response\u001b[39m.\u001b[39mget(\u001b[39m\"\u001b[39m\u001b[39mvalue\u001b[39m\u001b[39m\"\u001b[39m, \u001b[39mNone\u001b[39;00m))\n\u001b[1;32m    348\u001b[0m     \u001b[39mreturn\u001b[39;00m response\n",
      "File \u001b[0;32m~/Library/Python/3.9/lib/python/site-packages/selenium/webdriver/remote/errorhandler.py:245\u001b[0m, in \u001b[0;36mErrorHandler.check_response\u001b[0;34m(self, response)\u001b[0m\n\u001b[1;32m    243\u001b[0m         alert_text \u001b[39m=\u001b[39m value[\u001b[39m\"\u001b[39m\u001b[39malert\u001b[39m\u001b[39m\"\u001b[39m]\u001b[39m.\u001b[39mget(\u001b[39m\"\u001b[39m\u001b[39mtext\u001b[39m\u001b[39m\"\u001b[39m)\n\u001b[1;32m    244\u001b[0m     \u001b[39mraise\u001b[39;00m exception_class(message, screen, stacktrace, alert_text)  \u001b[39m# type: ignore[call-arg]  # mypy is not smart enough here\u001b[39;00m\n\u001b[0;32m--> 245\u001b[0m \u001b[39mraise\u001b[39;00m exception_class(message, screen, stacktrace)\n",
      "\u001b[0;31mNoSuchElementException\u001b[0m: Message: ; For documentation on this error, please visit: https://www.selenium.dev/documentation/webdriver/troubleshooting/errors#no-such-element-exception\n"
     ]
    }
   ],
   "source": [
    "driver.find_element(By.XPATH, '//*[@id=\"__layout\"]/div/div/div[2]/div[6]/div/div[1]/div/div/div/div[2]/button').send_keys(Keys.ENTER)"
   ]
  },
  {
   "cell_type": "markdown",
   "metadata": {},
   "source": [
    "Your password must include the URL of a 5 minute 34 second long YouTube video."
   ]
  },
  {
   "cell_type": "code",
   "execution_count": 64,
   "metadata": {},
   "outputs": [],
   "source": [
    "#captchasolver\n",
    "\n",
    "from twocaptcha import TwoCaptcha\n",
    "\n",
    "solver = TwoCaptcha('998379d29f5af42b1d99b164ef2cc74f')\n",
    "result = solver.normal(captcha_img)\n",
    "captcha = result['code']"
   ]
  },
  {
   "attachments": {},
   "cell_type": "markdown",
   "metadata": {},
   "source": [
    "!pip3 install 2captcha-python"
   ]
  },
  {
   "cell_type": "markdown",
   "metadata": {},
   "source": [
    "3 minute 42 seconds fails\n",
    "17 minutes fails\n",
    "23 minute 50 second\n",
    "9 1"
   ]
  },
  {
   "cell_type": "code",
   "execution_count": null,
   "metadata": {},
   "outputs": [],
   "source": [
    "<div data-v-490deea8=\"\" class=\"geo-wrapper\"><iframe data-v-490deea8=\"\" data-v-666b8394=\"\" src=\"https://www.google.com/maps/embed?pb=!4v1686332723639!6m8!1m7!1sCAoSLEFGMVFpcFBGMG5rYjFCcGhYNm5ObENGQmJHUEdHUXBWMmUwYjBSMXFBUEFT!2m2!1d55.73173347549965!2d37.50606995075941!3f268.32!4f19.040000000000006!5f0.4000000000000002\" width=\"100%\" height=\"100%\" class=\"geo\"></iframe></div>"
   ]
  },
  {
   "cell_type": "code",
   "execution_count": null,
   "metadata": {},
   "outputs": [],
   "source": [
    "data-v-666b8394"
   ]
  },
  {
   "cell_type": "code",
   "execution_count": null,
   "metadata": {},
   "outputs": [],
   "source": []
  },
  {
   "cell_type": "code",
   "execution_count": null,
   "metadata": {},
   "outputs": [],
   "source": []
  },
  {
   "cell_type": "code",
   "execution_count": null,
   "metadata": {},
   "outputs": [],
   "source": []
  },
  {
   "cell_type": "code",
   "execution_count": null,
   "metadata": {},
   "outputs": [],
   "source": []
  },
  {
   "cell_type": "code",
   "execution_count": null,
   "metadata": {},
   "outputs": [],
   "source": []
  },
  {
   "cell_type": "code",
   "execution_count": 4,
   "metadata": {},
   "outputs": [],
   "source": [
    "from selenium import webdriver\n",
    "from selenium.webdriver.common.by import By\n",
    "from selenium.webdriver.common.keys import Keys\n",
    "import time\n",
    "\n",
    "def search_google(query):\n",
    "    # For Safari, you just need to specify the browser; no need for driver path\n",
    "    driver = webdriver.Safari()\n",
    "\n",
    "    # Open google.com\n",
    "    driver.get('https://www.google.com')\n",
    "\n",
    "    # Find the search bar using its name attribute value\n",
    "    search_bar = driver.find_element(By.NAME, 'q')\n",
    "\n",
    "    # Clear it, just in case there's something already there\n",
    "    search_bar.clear()\n",
    "\n",
    "    # Type the search query into the search bar\n",
    "    search_bar.send_keys(query)\n",
    "\n",
    "    # Submit the search query (You can also use Keys.RETURN)\n",
    "    search_bar.submit()\n",
    "\n",
    "    time.sleep(5)  # pause for 5 seconds to see the results\n",
    "\n",
    "    # Close the browser\n",
    "    driver.quit()\n",
    "\n",
    "search_google(\"OpenAI\")\n"
   ]
  },
  {
   "cell_type": "code",
   "execution_count": 1,
   "metadata": {},
   "outputs": [
    {
     "name": "stdout",
     "output_type": "stream",
     "text": [
      "Defaulting to user installation because normal site-packages is not writeable\n",
      "Collecting stockfish\n",
      "  Downloading stockfish-3.28.0-py3-none-any.whl (13 kB)\n",
      "Installing collected packages: stockfish\n",
      "Successfully installed stockfish-3.28.0\n"
     ]
    }
   ],
   "source": [
    "!pip install stockfish"
   ]
  },
  {
   "cell_type": "code",
   "execution_count": 9,
   "metadata": {},
   "outputs": [
    {
     "name": "stdout",
     "output_type": "stream",
     "text": [
      "Defaulting to user installation because normal site-packages is not writeable\n",
      "Collecting svg.path\n",
      "  Downloading svg.path-6.3-py2.py3-none-any.whl (16 kB)\n",
      "Installing collected packages: svg.path\n",
      "Successfully installed svg.path-6.3\n"
     ]
    }
   ],
   "source": [
    "!pip3 install svg.path"
   ]
  },
  {
   "cell_type": "code",
   "execution_count": 46,
   "metadata": {},
   "outputs": [
    {
     "name": "stdout",
     "output_type": "stream",
     "text": [
      "Defaulting to user installation because normal site-packages is not writeable\n",
      "Collecting python-chess\n",
      "  Downloading python_chess-1.999-py3-none-any.whl (1.4 kB)\n",
      "Collecting chess<2,>=1 (from python-chess)\n",
      "  Downloading chess-1.9.4-py3-none-any.whl (149 kB)\n",
      "\u001b[2K     \u001b[90m━━━━━━━━━━━━━━━━━━━━━━━━━━━━━━━━━━━━━━━\u001b[0m \u001b[32m149.1/149.1 kB\u001b[0m \u001b[31m3.4 MB/s\u001b[0m eta \u001b[36m0:00:00\u001b[0ma \u001b[36m0:00:01\u001b[0m\n",
      "\u001b[?25hInstalling collected packages: chess, python-chess\n",
      "Successfully installed chess-1.9.4 python-chess-1.999\n"
     ]
    }
   ],
   "source": [
    "!pip install python-chess"
   ]
  },
  {
   "cell_type": "code",
   "execution_count": null,
   "metadata": {},
   "outputs": [],
   "source": []
  }
 ],
 "metadata": {
  "kernelspec": {
   "display_name": "Python 3",
   "language": "python",
   "name": "python3"
  },
  "language_info": {
   "codemirror_mode": {
    "name": "ipython",
    "version": 3
   },
   "file_extension": ".py",
   "mimetype": "text/x-python",
   "name": "python",
   "nbconvert_exporter": "python",
   "pygments_lexer": "ipython3",
   "version": "3.9.6"
  },
  "orig_nbformat": 4
 },
 "nbformat": 4,
 "nbformat_minor": 2
}
