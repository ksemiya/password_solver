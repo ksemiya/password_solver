{
 "cells": [
  {
   "attachments": {},
   "cell_type": "markdown",
   "metadata": {},
   "source": [
    "Так\n",
    "Я хочу штуки блоками?\n",
    "Как правильно — передавать штуки или не передавать штуки?"
   ]
  },
  {
   "cell_type": "code",
   "execution_count": 56,
   "metadata": {},
   "outputs": [],
   "source": [
    "from selenium import webdriver\n",
    "from selenium.webdriver.common.by import By\n",
    "from selenium.webdriver.common.keys import Keys\n",
    "import pandas as pd\n",
    "import time\n",
    "\n",
    "# today's wordle\n",
    "\n",
    "from bs4 import BeautifulSoup\n",
    "import requests\n",
    "\n",
    "def today_wordle():\n",
    "    url_wordle_ans = ' https://word.tips/todays-wordle-answer/'\n",
    "\n",
    "    # today date\n",
    "    import datetime\n",
    "    today_date = datetime.datetime.now()\n",
    "    today_worlde_raw = today_date.strftime(\"%B %-d\") # July 4\n",
    "    page = requests.get(url_wordle_ans, headers={'User-Agent': 'Mozilla/5.0'})\n",
    "    soup = BeautifulSoup(page.content, \"html.parser\")\n",
    "    child_soup = soup.find_all('strong')\n",
    "    for x in child_soup:\n",
    "        if (today_worlde_raw in x.string):\n",
    "            return x.string[-5:].lower()\n",
    "        \n",
    "def today_moon_phase():\n",
    "    #return '🌖'\n",
    "    dict_moon_phases = {\n",
    "        'New' : '🌑',\n",
    "        'Waxing Crescent' : '🌒',\n",
    "        'First Quarter' : '🌓',\n",
    "        'Waxing Gibbous' : '🌔',\n",
    "        'Full' : '🌕',\n",
    "        'Waning Gibbous' : '🌖',\n",
    "        'Last Quarter' : '🌗',\n",
    "        'Waning Crescent' : '🌘'\n",
    "    } # should I have it like this?\n",
    "\n",
    "    url_moon_phases = 'https://www.moongiant.com/phase/today/'\n",
    "    page = requests.get(url_moon_phases, headers={'User-Agent': 'Mozilla/5.0'})\n",
    "    soup = BeautifulSoup(page.content, \"html.parser\")\n",
    "    moon_details = soup.find(\"div\", {\"id\": \"moonDetails\"})\n",
    "    return dict_moon_phases[moon_details.contents[1].string]       \n",
    "\n",
    "def strong():\n",
    "     return '🏋️‍♂️🏋️‍♂️🏋️‍♂️'\n",
    "\n",
    "url_password_game = 'https://neal.fun/password-game/' # global\n",
    "free_digit = 25 # do I need that?\n",
    "\n",
    "password_digits = [1 for _ in range(25)] # digits that is not in captcha or chess or whatever; do I need that?\n",
    "password = '4$XXXVpepsimayHe' + today_wordle() + today_moon_phase() + strong() + '1' * 21 # add leap year in the beginning\n",
    "\n",
    "# start browser operation\n",
    "\n",
    "# driver = webdriver.Chrome() \n",
    "driver = webdriver.Safari()\n",
    "driver.get(url_password_game)\n",
    "# password_box = driver.find_element(By.CLASS_NAME, 'ProseMirror')\n",
    "time.sleep(1)\n",
    "password_box = driver.find_element(By.CLASS_NAME, 'ProseMirror')\n",
    "password_box.send_keys(password)\n",
    "\n",
    "captcha_img = driver.find_element(By.CLASS_NAME, 'captcha-img').get_attribute('src')\n",
    "refresh_captcha = driver.find_element(By.CLASS_NAME, 'captcha-refresh')\n",
    "\n",
    "#captchasolver\n",
    "def captcha_solver():\n",
    "    captcha_digit_sum = 30\n",
    "    while captcha_digit_sum > 5: # magic int; I think it will be enough degree of freedom\n",
    "        captcha_img = driver.find_element(By.CLASS_NAME, 'captcha-img').get_attribute('src')\n",
    "        captcha = captcha_img[40:45]\n",
    "        # refaсtoring digits in password if captcha have some to sum to 25\n",
    "        captcha_digit_sum = 0\n",
    "        for x in captcha:\n",
    "            if x.isdigit():\n",
    "                captcha_digit_sum += int(x)\n",
    "        if captcha_digit_sum > 5:\n",
    "            time.sleep(1)\n",
    "            refresh_captcha.click()\n",
    "    return captcha, captcha_digit_sum\n",
    "\n",
    "captcha, captcha_digit_sum = captcha_solver()\n",
    "password = (password[:-captcha_digit_sum] if captcha_digit_sum != 0 else password) + captcha  # I had a bug if captcha were without digit lol\n",
    "\n",
    "password_box.clear()\n",
    "password_box.send_keys(password)      \n",
    "\n",
    "countiers = pd.read_json('maps.jsonc')\n",
    "\n",
    "# Just could not do anything with them\n",
    "# geo_frame = driver.find_element(By.XPATH, r'//*[@id=\"__layout\"]/div/div/div[2]/div[5]/div/div[1]/div/div/div/div[2]/div/iframe')\n",
    "# geo = driver.find_element(By.CLASS_NAME, 'geo')\n",
    "\n",
    "def geo_solver(page_source_geo):\n",
    "    soup = BeautifulSoup(page_source_geo, \"html.parser\")\n",
    "    child_soup = soup.find_all('iframe')\n",
    "    for x in child_soup:\n",
    "        if x['src'].startswith(\"https://www.google.com/maps/embed\"):\n",
    "            geo_embed = x['src']\n",
    "    return countiers[countiers.embed == geo_embed].title.values[0].lower().replace(\" \", \"\")\n",
    "\n",
    "country = geo_solver(driver.page_source)\n",
    "password_box.send_keys(country)  \n",
    "\n",
    "def get_chess_position(chess_img):\n",
    "    import requests\n",
    "    from xml.etree import ElementTree as ET\n",
    "\n",
    "    # Make a request to the URL\n",
    "    response = requests.get(chess_img)\n",
    "\n",
    "    # Check if the request was successful\n",
    "    if response.status_code == 200:\n",
    "        svg_data = response.content\n",
    "\n",
    "        # Parse SVG data\n",
    "        tree = ET.ElementTree(ET.fromstring(svg_data))\n",
    "\n",
    "        # Loop over all elements in the SVG\n",
    "        for elem in tree.iter():\n",
    "            if elem.text is not None:\n",
    "                chess_position = elem.text\n",
    "                return chess_position\n",
    "    else:\n",
    "        print('Failed to fetch SVG.') # TODO raise Err\n",
    "    return\n",
    "\n",
    "def color_move(chess_move):\n",
    "    if 'White' in chess_move:\n",
    "        return 'w'\n",
    "    if 'Black' in chess_move:\n",
    "        return 'b'\n",
    "    return 'WRONG MOVE'\n",
    "\n",
    "def from_svg_to_FEN(chess_position, chess_move):\n",
    "    # Remove leading/trailing white space and split the string into lines\n",
    "    rows = chess_position.strip().split(\"\\n\")\n",
    "\n",
    "    # Initialize an empty list to hold FEN rows\n",
    "    fen_rows = []\n",
    "\n",
    "    # Iterate over rows\n",
    "    for row in rows:\n",
    "        # Remove leading/trailing white space and split row into squares\n",
    "        squares = row.strip().split(\" \")\n",
    "        # Initialize counter for empty squares\n",
    "        empty = 0\n",
    "        # Initialize an empty string to hold FEN for this row\n",
    "        fen_row = ''\n",
    "        # Iterate over squares\n",
    "        for square in squares:\n",
    "            if square == '.':\n",
    "                # Increment counter for empty squares\n",
    "                empty += 1\n",
    "            else:\n",
    "                # If the square is not empty and there were empty squares before, add count to FEN\n",
    "                if empty > 0:\n",
    "                    fen_row += str(empty)\n",
    "                    # Reset empty squares counter\n",
    "                    empty = 0\n",
    "                # Add piece to FEN\n",
    "                fen_row += square\n",
    "        # If the row ends with one or more empty squares, add count to FEN\n",
    "        if empty > 0:\n",
    "            fen_row += str(empty)\n",
    "        # Add FEN for this row to the list of FEN rows\n",
    "        fen_rows.append(fen_row)\n",
    "    # Join the FEN rows with slashes to get the final FEN\n",
    "    fen_board = '/'.join(fen_rows)\n",
    "    fen = fen_board + ' ' + color_move(chess_move) + ' - - 0 1'\n",
    "\n",
    "    return fen\n",
    "\n",
    "def get_best_move(fen): \n",
    "\n",
    "    import chess.engine\n",
    "\n",
    "    # Define the path to your Stockfish engine file\n",
    "    engine_path = \"/opt/homebrew/Cellar/stockfish/16/bin/stockfish\"\n",
    "\n",
    "    # Initialize the chessboard with a given FEN\n",
    "    board = chess.Board(fen)\n",
    "\n",
    "    # Initialize the engine\n",
    "    engine = chess.engine.SimpleEngine.popen_uci(engine_path)\n",
    "\n",
    "    # Find the best move\n",
    "    result = engine.play(board, chess.engine.Limit(time=1.0))\n",
    "    best_move = result.move\n",
    "\n",
    "    # From UCI to algebraic notation\n",
    "    best_move_alg_not = board.san(best_move)\n",
    "\n",
    "    # It is good practice to close the engine after using it\n",
    "    engine.quit()\n",
    "\n",
    "    return best_move_alg_not\n",
    "\n",
    "def solve_chess_position(chess_img, chess_move):\n",
    "    chess_position = get_chess_position(chess_img)\n",
    "    fen = from_svg_to_FEN(chess_position, chess_move)\n",
    "    best_move = get_best_move(fen)\n",
    "    return best_move\n",
    "\n",
    "chess_img = driver.find_element(By.CLASS_NAME, 'chess-img').get_attribute('src')\n",
    "chess_move = driver.find_element(By.CLASS_NAME, 'move').text\n",
    "chess_solution = solve_chess_position(chess_img, chess_move)\n",
    "password_box.send_keys(chess_solution) \n",
    "#driver.quit()"
   ]
  },
  {
   "cell_type": "code",
   "execution_count": 34,
   "metadata": {},
   "outputs": [
    {
     "ename": "InvalidSessionIdException",
     "evalue": "Message: \n",
     "output_type": "error",
     "traceback": [
      "\u001b[0;31m---------------------------------------------------------------------------\u001b[0m",
      "\u001b[0;31mInvalidSessionIdException\u001b[0m                 Traceback (most recent call last)",
      "Cell \u001b[0;32mIn[34], line 1\u001b[0m\n\u001b[0;32m----> 1\u001b[0m driver\u001b[39m.\u001b[39;49mquit()\n",
      "File \u001b[0;32m~/Library/Python/3.9/lib/python/site-packages/selenium/webdriver/safari/webdriver.py:81\u001b[0m, in \u001b[0;36mWebDriver.quit\u001b[0;34m(self)\u001b[0m\n\u001b[1;32m     78\u001b[0m \u001b[39m\u001b[39m\u001b[39m\"\"\"Closes the browser and shuts down the SafariDriver executable that\u001b[39;00m\n\u001b[1;32m     79\u001b[0m \u001b[39mis started when starting the SafariDriver.\"\"\"\u001b[39;00m\n\u001b[1;32m     80\u001b[0m \u001b[39mtry\u001b[39;00m:\n\u001b[0;32m---> 81\u001b[0m     \u001b[39msuper\u001b[39;49m()\u001b[39m.\u001b[39;49mquit()\n\u001b[1;32m     82\u001b[0m \u001b[39mexcept\u001b[39;00m http_client\u001b[39m.\u001b[39mBadStatusLine:\n\u001b[1;32m     83\u001b[0m     \u001b[39mpass\u001b[39;00m\n",
      "File \u001b[0;32m~/Library/Python/3.9/lib/python/site-packages/selenium/webdriver/remote/webdriver.py:468\u001b[0m, in \u001b[0;36mWebDriver.quit\u001b[0;34m(self)\u001b[0m\n\u001b[1;32m    460\u001b[0m \u001b[39m\u001b[39m\u001b[39m\"\"\"Quits the driver and closes every associated window.\u001b[39;00m\n\u001b[1;32m    461\u001b[0m \n\u001b[1;32m    462\u001b[0m \u001b[39m:Usage:\u001b[39;00m\n\u001b[0;32m   (...)\u001b[0m\n\u001b[1;32m    465\u001b[0m \u001b[39m        driver.quit()\u001b[39;00m\n\u001b[1;32m    466\u001b[0m \u001b[39m\"\"\"\u001b[39;00m\n\u001b[1;32m    467\u001b[0m \u001b[39mtry\u001b[39;00m:\n\u001b[0;32m--> 468\u001b[0m     \u001b[39mself\u001b[39;49m\u001b[39m.\u001b[39;49mexecute(Command\u001b[39m.\u001b[39;49mQUIT)\n\u001b[1;32m    469\u001b[0m \u001b[39mfinally\u001b[39;00m:\n\u001b[1;32m    470\u001b[0m     \u001b[39mself\u001b[39m\u001b[39m.\u001b[39mstop_client()\n",
      "File \u001b[0;32m~/Library/Python/3.9/lib/python/site-packages/selenium/webdriver/remote/webdriver.py:346\u001b[0m, in \u001b[0;36mWebDriver.execute\u001b[0;34m(self, driver_command, params)\u001b[0m\n\u001b[1;32m    344\u001b[0m response \u001b[39m=\u001b[39m \u001b[39mself\u001b[39m\u001b[39m.\u001b[39mcommand_executor\u001b[39m.\u001b[39mexecute(driver_command, params)\n\u001b[1;32m    345\u001b[0m \u001b[39mif\u001b[39;00m response:\n\u001b[0;32m--> 346\u001b[0m     \u001b[39mself\u001b[39;49m\u001b[39m.\u001b[39;49merror_handler\u001b[39m.\u001b[39;49mcheck_response(response)\n\u001b[1;32m    347\u001b[0m     response[\u001b[39m\"\u001b[39m\u001b[39mvalue\u001b[39m\u001b[39m\"\u001b[39m] \u001b[39m=\u001b[39m \u001b[39mself\u001b[39m\u001b[39m.\u001b[39m_unwrap_value(response\u001b[39m.\u001b[39mget(\u001b[39m\"\u001b[39m\u001b[39mvalue\u001b[39m\u001b[39m\"\u001b[39m, \u001b[39mNone\u001b[39;00m))\n\u001b[1;32m    348\u001b[0m     \u001b[39mreturn\u001b[39;00m response\n",
      "File \u001b[0;32m~/Library/Python/3.9/lib/python/site-packages/selenium/webdriver/remote/errorhandler.py:245\u001b[0m, in \u001b[0;36mErrorHandler.check_response\u001b[0;34m(self, response)\u001b[0m\n\u001b[1;32m    243\u001b[0m         alert_text \u001b[39m=\u001b[39m value[\u001b[39m\"\u001b[39m\u001b[39malert\u001b[39m\u001b[39m\"\u001b[39m]\u001b[39m.\u001b[39mget(\u001b[39m\"\u001b[39m\u001b[39mtext\u001b[39m\u001b[39m\"\u001b[39m)\n\u001b[1;32m    244\u001b[0m     \u001b[39mraise\u001b[39;00m exception_class(message, screen, stacktrace, alert_text)  \u001b[39m# type: ignore[call-arg]  # mypy is not smart enough here\u001b[39;00m\n\u001b[0;32m--> 245\u001b[0m \u001b[39mraise\u001b[39;00m exception_class(message, screen, stacktrace)\n",
      "\u001b[0;31mInvalidSessionIdException\u001b[0m: Message: \n"
     ]
    }
   ],
   "source": [
    "driver.quit()"
   ]
  },
  {
   "cell_type": "code",
   "execution_count": 57,
   "metadata": {},
   "outputs": [
    {
     "data": {
      "text/plain": [
       "'https://neal.fun/password-game/chess/puzzle137.svg'"
      ]
     },
     "execution_count": 57,
     "metadata": {},
     "output_type": "execute_result"
    }
   ],
   "source": [
    "chess_img"
   ]
  },
  {
   "cell_type": "code",
   "execution_count": 40,
   "metadata": {},
   "outputs": [],
   "source": []
  },
  {
   "cell_type": "code",
   "execution_count": 55,
   "metadata": {},
   "outputs": [],
   "source": []
  },
  {
   "cell_type": "code",
   "execution_count": 54,
   "metadata": {},
   "outputs": [
    {
     "name": "stdout",
     "output_type": "stream",
     "text": [
      "Qg8+\n"
     ]
    }
   ],
   "source": [
    "\n",
    "\n",
    "\n",
    "\n"
   ]
  },
  {
   "cell_type": "code",
   "execution_count": 53,
   "metadata": {},
   "outputs": [
    {
     "data": {
      "text/plain": [
       "Move.from_uci('h7g8')"
      ]
     },
     "execution_count": 53,
     "metadata": {},
     "output_type": "execute_result"
    }
   ],
   "source": [
    "result.move"
   ]
  },
  {
   "cell_type": "code",
   "execution_count": 42,
   "metadata": {},
   "outputs": [
    {
     "data": {
      "text/plain": [
       "'. r b . . k . .\\np p . . . p p Q\\n. . . . . . . q\\n. . p . n . N .\\n. . p . . . . .\\n. . N . . . . .\\nP . . . B P . P\\nK . . R . . . .'"
      ]
     },
     "execution_count": 42,
     "metadata": {},
     "output_type": "execute_result"
    }
   ],
   "source": [
    "chess_position"
   ]
  },
  {
   "cell_type": "code",
   "execution_count": 64,
   "metadata": {},
   "outputs": [],
   "source": [
    "#captchasolver\n",
    "\n",
    "from twocaptcha import TwoCaptcha\n",
    "\n",
    "solver = TwoCaptcha('998379d29f5af42b1d99b164ef2cc74f')\n",
    "result = solver.normal(captcha_img)\n",
    "captcha = result['code']"
   ]
  },
  {
   "attachments": {},
   "cell_type": "markdown",
   "metadata": {},
   "source": [
    "!pip3 install 2captcha-python"
   ]
  },
  {
   "cell_type": "code",
   "execution_count": null,
   "metadata": {},
   "outputs": [],
   "source": []
  },
  {
   "cell_type": "code",
   "execution_count": null,
   "metadata": {},
   "outputs": [],
   "source": []
  },
  {
   "cell_type": "code",
   "execution_count": null,
   "metadata": {},
   "outputs": [],
   "source": []
  },
  {
   "cell_type": "code",
   "execution_count": 58,
   "metadata": {},
   "outputs": [],
   "source": [
    "import pandas as pd\n",
    "df_atomics = pd.read_csv('atomic_numbers.csv', sep=';')"
   ]
  },
  {
   "cell_type": "code",
   "execution_count": 73,
   "metadata": {},
   "outputs": [
    {
     "data": {
      "text/plain": [
       "'11111111111111111111111'"
      ]
     },
     "execution_count": 73,
     "metadata": {},
     "output_type": "execute_result"
    }
   ],
   "source": []
  },
  {
   "cell_type": "code",
   "execution_count": null,
   "metadata": {},
   "outputs": [],
   "source": [
    "<div data-v-490deea8=\"\" class=\"geo-wrapper\"><iframe data-v-490deea8=\"\" data-v-666b8394=\"\" src=\"https://www.google.com/maps/embed?pb=!4v1686332723639!6m8!1m7!1sCAoSLEFGMVFpcFBGMG5rYjFCcGhYNm5ObENGQmJHUEdHUXBWMmUwYjBSMXFBUEFT!2m2!1d55.73173347549965!2d37.50606995075941!3f268.32!4f19.040000000000006!5f0.4000000000000002\" width=\"100%\" height=\"100%\" class=\"geo\"></iframe></div>"
   ]
  },
  {
   "cell_type": "code",
   "execution_count": null,
   "metadata": {},
   "outputs": [],
   "source": [
    "data-v-666b8394"
   ]
  },
  {
   "cell_type": "code",
   "execution_count": null,
   "metadata": {},
   "outputs": [],
   "source": []
  },
  {
   "cell_type": "code",
   "execution_count": null,
   "metadata": {},
   "outputs": [],
   "source": []
  },
  {
   "cell_type": "code",
   "execution_count": null,
   "metadata": {},
   "outputs": [],
   "source": []
  },
  {
   "cell_type": "code",
   "execution_count": null,
   "metadata": {},
   "outputs": [],
   "source": []
  },
  {
   "cell_type": "code",
   "execution_count": null,
   "metadata": {},
   "outputs": [],
   "source": []
  },
  {
   "cell_type": "code",
   "execution_count": 4,
   "metadata": {},
   "outputs": [],
   "source": [
    "from selenium import webdriver\n",
    "from selenium.webdriver.common.by import By\n",
    "from selenium.webdriver.common.keys import Keys\n",
    "import time\n",
    "\n",
    "def search_google(query):\n",
    "    # For Safari, you just need to specify the browser; no need for driver path\n",
    "    driver = webdriver.Safari()\n",
    "\n",
    "    # Open google.com\n",
    "    driver.get('https://www.google.com')\n",
    "\n",
    "    # Find the search bar using its name attribute value\n",
    "    search_bar = driver.find_element(By.NAME, 'q')\n",
    "\n",
    "    # Clear it, just in case there's something already there\n",
    "    search_bar.clear()\n",
    "\n",
    "    # Type the search query into the search bar\n",
    "    search_bar.send_keys(query)\n",
    "\n",
    "    # Submit the search query (You can also use Keys.RETURN)\n",
    "    search_bar.submit()\n",
    "\n",
    "    time.sleep(5)  # pause for 5 seconds to see the results\n",
    "\n",
    "    # Close the browser\n",
    "    driver.quit()\n",
    "\n",
    "search_google(\"OpenAI\")\n"
   ]
  },
  {
   "cell_type": "code",
   "execution_count": 1,
   "metadata": {},
   "outputs": [
    {
     "name": "stdout",
     "output_type": "stream",
     "text": [
      "Defaulting to user installation because normal site-packages is not writeable\n",
      "Collecting stockfish\n",
      "  Downloading stockfish-3.28.0-py3-none-any.whl (13 kB)\n",
      "Installing collected packages: stockfish\n",
      "Successfully installed stockfish-3.28.0\n"
     ]
    }
   ],
   "source": [
    "!pip install stockfish"
   ]
  },
  {
   "cell_type": "code",
   "execution_count": 9,
   "metadata": {},
   "outputs": [
    {
     "name": "stdout",
     "output_type": "stream",
     "text": [
      "Defaulting to user installation because normal site-packages is not writeable\n",
      "Collecting svg.path\n",
      "  Downloading svg.path-6.3-py2.py3-none-any.whl (16 kB)\n",
      "Installing collected packages: svg.path\n",
      "Successfully installed svg.path-6.3\n"
     ]
    }
   ],
   "source": [
    "!pip3 install svg.path"
   ]
  },
  {
   "cell_type": "code",
   "execution_count": 46,
   "metadata": {},
   "outputs": [
    {
     "name": "stdout",
     "output_type": "stream",
     "text": [
      "Defaulting to user installation because normal site-packages is not writeable\n",
      "Collecting python-chess\n",
      "  Downloading python_chess-1.999-py3-none-any.whl (1.4 kB)\n",
      "Collecting chess<2,>=1 (from python-chess)\n",
      "  Downloading chess-1.9.4-py3-none-any.whl (149 kB)\n",
      "\u001b[2K     \u001b[90m━━━━━━━━━━━━━━━━━━━━━━━━━━━━━━━━━━━━━━━\u001b[0m \u001b[32m149.1/149.1 kB\u001b[0m \u001b[31m3.4 MB/s\u001b[0m eta \u001b[36m0:00:00\u001b[0ma \u001b[36m0:00:01\u001b[0m\n",
      "\u001b[?25hInstalling collected packages: chess, python-chess\n",
      "Successfully installed chess-1.9.4 python-chess-1.999\n"
     ]
    }
   ],
   "source": [
    "!pip install python-chess"
   ]
  },
  {
   "cell_type": "code",
   "execution_count": null,
   "metadata": {},
   "outputs": [],
   "source": []
  }
 ],
 "metadata": {
  "kernelspec": {
   "display_name": "Python 3",
   "language": "python",
   "name": "python3"
  },
  "language_info": {
   "codemirror_mode": {
    "name": "ipython",
    "version": 3
   },
   "file_extension": ".py",
   "mimetype": "text/x-python",
   "name": "python",
   "nbconvert_exporter": "python",
   "pygments_lexer": "ipython3",
   "version": "3.9.6"
  },
  "orig_nbformat": 4
 },
 "nbformat": 4,
 "nbformat_minor": 2
}
